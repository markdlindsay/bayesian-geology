{
 "cells": [
  {
   "cell_type": "markdown",
   "metadata": {},
   "source": [
    "# Basic Anti-aliased Geological Models\n",
    "\n",
    "I'm now going to use some of the ideas in the first notebook on anti-aliasing to develop a set of simple parametric geological models that have posteriors we can sample by MCMC.  They'll draw on ideas from several different kinds of models for best results, with what I hope will be structures transparent to both geologists and data scientists.\n",
    "\n",
    "What we found earlier was that it was straightforward to anti-alias interfaces that were defined _implicitly_, by some function $\\phi(\\mathbf{x}) = 0$; the partial volume in a voxel along the interface could be expressed, to a very good approximation, as a function of the normal distance to that interface from the voxel center.  This is similar to the way interfaces are defined in the so-called _implicit_ class of models that include many packages our DARE collaborators are already working with, such as GemPy, GeoModeller, and LoopStructural.  The implicit functions these packages use are more abstract measures of geological time, rather than concrete measures like physical distance.  However, if we show that parametric anti-aliasing can work on simple models like the ones we will develop, it shouldn't be too far a step to technology that can work with real 3-D geological models.\n",
    "\n",
    "One convenient and geologically sensible way to build a volume, though, is by composition, since in cases where multiple interfaces overlap it establishes a clear order of evaluation that resolves any interpretive ambiguities.  This is a feature of _kinematic_ models such as Noddy; LoopStructural also incorporates kinematic elements.\n",
    "\n",
    "Let's first define an infinite-resolution geology as a composition of functions with implicitly defined interfaces; then blur out these interfaces with an anti-aliasing kernel, and evaluate on a grid for geophysics."
   ]
  },
  {
   "cell_type": "code",
   "execution_count": 1,
   "metadata": {},
   "outputs": [
    {
     "name": "stdout",
     "output_type": "stream",
     "text": [
      "z0, L, nL, h = 0.0 1000.0 15 66.66666666666667\n"
     ]
    }
   ],
   "source": [
    "import numpy as np\n",
    "import matplotlib.pyplot as plt\n",
    "from blockworlds import profile_timer, DiscreteGravity\n",
    "from blockworlds import baseline_tensor_mesh, survey_gridded_locations\n",
    "\n",
    "z0, L, NL = 0.0, 1000.0, 15\n",
    "h = L/NL\n",
    "print(\"z0, L, nL, h =\", z0, L, NL, h)\n",
    "mesh = baseline_tensor_mesh(NL, h, centering='CCN')\n",
    "survey = survey_gridded_locations(L, L, 20, 20, z0)"
   ]
  },
  {
   "cell_type": "markdown",
   "metadata": {},
   "source": [
    "I'm going to define a sequence of events here that generates something like the graben model shown in Figures 8 and 9 of Pakyuz-Charrier+ 2018.  This has several horizontal layers and two vertical faults running through them.\n",
    "\n",
    "Each event has its own priors so this will get pedantic pretty quickly, but when each of your arguments has physical dimensions and geometric meaning this is probably where we end up.  I've chosen these to reflect highly certain knowledge of what's going on at the surface with more uncertainty about what's going on underneath, which seems reasonable."
   ]
  },
  {
   "cell_type": "code",
   "execution_count": 2,
   "metadata": {},
   "outputs": [],
   "source": [
    "from implicit import GeoHistory, BasementEvent, StratLayerEvent, PlanarFaultEvent\n",
    "from implicit import UniGaussianDist, UniformDist, vMFDist\n",
    "\n",
    "# Define the geology as a list of chained events\n",
    "# I'm forcing us to use keyword arguments everywhere for readability\n",
    "history = GeoHistory()\n",
    "# Basement:  density (g/cc)\n",
    "history.add_event(\n",
    "    BasementEvent(\n",
    "        [('density', UniGaussianDist(mean=3.0, std=0.5))]\n",
    "    )\n",
    ")\n",
    "# Overlying stratigraphic layers:  thicknesses (m) and densities (g/cc)\n",
    "history.add_event(\n",
    "    StratLayerEvent(\n",
    "        [('thickness', UniGaussianDist(mean=350.0, std=50.0)),\n",
    "        ('density', UniGaussianDist(mean=2.5, std=0.1))]\n",
    "    )\n",
    ")\n",
    "history.add_event(\n",
    "    StratLayerEvent(\n",
    "        [('thickness', UniGaussianDist(mean=190.0, std=50.0)),\n",
    "         ('density', UniGaussianDist(mean=2.0, std=0.1))]\n",
    "    )\n",
    ")\n",
    "# Faults:  anchor point r0[x,y,0] (m), normal vector spherical coordinates [theta, phi] (deg), slip (m)\n",
    "history.add_event(\n",
    "    PlanarFaultEvent(\n",
    "        [('x0', UniGaussianDist(mean=-400.0, std=1.0)),\n",
    "         ('y0', UniGaussianDist(mean=0.0, std=1.0)),\n",
    "         ('nth', 'nph', vMFDist(th0=0.0, ph0=0.0, kappa=50)),\n",
    "         ('s', UniGaussianDist(mean=-220.0, std=150.0))]\n",
    "    )\n",
    ")\n",
    "history.add_event(\n",
    "    PlanarFaultEvent(\n",
    "        [('x0', UniGaussianDist(mean=+400.0, std=1.0)),\n",
    "         ('y0', UniGaussianDist(mean=0.0, std=1.0)),\n",
    "         ('nth', 'nph', vMFDist(th0=0.0, ph0=0.0, kappa=50)),\n",
    "         ('s', UniGaussianDist(mean=+220.0, std=150.0))]\n",
    "    )\n",
    ")"
   ]
  },
  {
   "cell_type": "code",
   "execution_count": 3,
   "metadata": {},
   "outputs": [
    {
     "name": "stdout",
     "output_type": "stream",
     "text": [
      "history.serialize() = [   3.55079323  307.49860901    2.48800161  178.38557138    2.09225205\n",
      " -400.73433421   -1.09781926    8.7042874     6.85446156 -258.05618972\n",
      "  402.03359257    0.62286006   -7.06015396   11.99371287  227.61651728]\n",
      "history.serialize() = [   3.   350.     2.5  190.     2.  -250.     0.     0.     0.  -220.\n",
      "  250.     0.     0.     0.   220. ]\n",
      "calc_gravity ran in 0.746 sec\n",
      "current event: BasementEvent(density=3.0)\n",
      "calc_gravity ran in 0.002 sec\n",
      "current event: StratLayerEvent(thickness=350.0, density=2.5)\n",
      "calc_gravity ran in 0.011 sec\n",
      "current event: StratLayerEvent(thickness=190.0, density=2.0)\n",
      "calc_gravity ran in 0.004 sec\n",
      "current event: PlanarFaultEvent(x0=-250.0, y0=0.0, nth=0.0, nph=0.0, s=-220.0)\n",
      "calc_gravity ran in 0.003 sec\n",
      "current event: PlanarFaultEvent(x0=250.0, y0=0.0, nth=0.0, nph=0.0, s=220.0)\n",
      "calc_gravity ran in 0.004 sec\n"
     ]
    },
    {
     "data": {
      "text/plain": "<Figure size 1080x144 with 10 Axes>",
      "image/png": "[encoded data removed]"
     },
     "metadata": {
      "needs_background": "light"
     },
     "output_type": "display_data"
    }
   ],
   "source": [
    "histpars = history.serialize()\n",
    "print(\"history.serialize() =\", histpars)\n",
    "\n",
    "# Can also set parameters all at once -- good for running MCMC\n",
    "history.deserialize([3.0, 350.0, 2.5, 190.0, 2.0,\n",
    "                     -250.0, 0.0, 0.0, 0.0, -220.0,\n",
    "                     +250.0, 0.0, 0.0, 0.0, +220.0])\n",
    "histpars = history.serialize()\n",
    "print(\"history.serialize() =\", histpars)\n",
    "\n",
    "# Define the forward model\n",
    "fwdmodel = DiscreteGravity(mesh, survey, history.event_list[0])\n",
    "fwdmodel.gfunc = history.event_list[0].rockprops\n",
    "fwdmodel.edgemask = profile_timer(fwdmodel.calc_gravity, h)\n",
    "# Show a sequence of how the model is built up\n",
    "fig1 = plt.figure(figsize=(15, 2))\n",
    "for m, event in enumerate(history.event_list):\n",
    "    print(\"current event:\", event)\n",
    "    fwdmodel.gfunc = lambda r, h: np.array(event.rockprops(r, h))\n",
    "    profile_timer(fwdmodel.calc_gravity, h)\n",
    "    fwdmodel.fwd_data -= fwdmodel.edgemask * fwdmodel.voxmodel.mean()\n",
    "    ax = plt.subplot(1, 5, m+1)\n",
    "    fwdmodel.plot_model_slice(ax=ax)\n",
    "plt.subplots_adjust(wspace=1.0)\n",
    "plt.show()"
   ]
  },
  {
   "cell_type": "markdown",
   "metadata": {},
   "source": [
    "The `GeoEvent` superclass contains baseline methods for initializing, serializing, and deserializing events to make them easily navigable by an API for abstract MCMC algorithms.  Each of the `GeoEvent` subclasses also contains a `rockprops` method, which for now involves only density but could be expanded to return a whole array of scalar fields of rock properties that respond to sensor.  This method is placed on a call stack for all the previous events, with the resolution proceeding as in the above figure.  Each event perturbs the field of rock properties for the previous geology, so each calls the previous event recursively to find out what it's perturbing.  Finally, each also includes elements of probabilistic models, such as a `log_prior` method that returns a prior density, and specialized MCMC proposals that respect the geological symmetries of the model.\n",
    "\n",
    "Here's a peek at the current code for the `PlanarFaultEvent` class:\n",
    "\n",
    "```\n",
    "class PlanarFaultEvent(GeoEvent):\n",
    "\n",
    "    _attrs = ['x0', 'y0', 'nth', 'nph', 's']\n",
    "\n",
    "    def rockprops(self, r, h):\n",
    "        assert(isinstance(self.previous_event, GeoEvent))\n",
    "        # Point on fault specified in Cartesian coordinates; assume z0 = 0\n",
    "        # since we're probably just including geologically observed faults\n",
    "        r0 = np.array([self.x0, self.y0, 0.0])\n",
    "        # Unit normal to fault (\"polar vector\") specified with\n",
    "        # nth = elevation angle (+90 = +z, -90 = -z)\n",
    "        # nph = azimuthal angle (runs counterclockwise, zero in +x direction)\n",
    "        th, ph = np.radians(self.nth), np.radians(self.nph)\n",
    "        n = [np.cos(th)*np.cos(ph), np.cos(th)*np.sin(ph), np.sin(th)]\n",
    "        # Geology in +n direction slips relative to the background\n",
    "        # Slip is vertical (+z direction) in units of meters along the fault\n",
    "        v = np.cross(np.cross([0, 0, 1], n), n)\n",
    "        rdelt = self.s * v/l2norm(v)\n",
    "        g0 = self.previous_event.rockprops(r, h)\n",
    "        g1 = self.previous_event.rockprops(r + rdelt, h)\n",
    "        return soft_if_then(np.dot(r-r0, n), g0, g1, h)\n",
    "\n",
    "    def log_prior(self):\n",
    "        # nth, nph: uniform in solid angle\n",
    "        # s: exponential with default scale length\n",
    "        lp = np.cos(np.radians(self.nth))\n",
    "        lp = lp - 0.5*(self.s/1e+5)**2\n",
    "        return lp\n",
    "```\n",
    "\n",
    "When called, `PlanarFault.rockprops()` first works out the placement and kinematics of the fault; then evaluates the base geology on either side of the fault; and finally performs the anti-aliasing step.  The underlying geological process is always evaluated at full resolution at each stage, and the recursive call structure ensures that each geological feature is evaluated in the correct \"lab frame\" coordinates before anti-aliasing.  Only the voxels along each interface need to be anti-aliased, which helps keep the evaluation quick.\n",
    "\n",
    "Let's scan some posterior slices from these models now:"
   ]
  },
  {
   "cell_type": "code",
   "execution_count": 4,
   "metadata": {
    "collapsed": true
   },
   "outputs": [],
   "source": [
    "from riemann import Sampler, Model\n",
    "from riemann.proposals.randomwalk import AdaptiveMetropolisRandomWalk as AMRW\n",
    "\n",
    "class GeoModel(Model):\n",
    "    \n",
    "    def __init__(self, history, fwdmodel, dsynth, sigdata):\n",
    "        # Set baseline attributes\n",
    "        self.history = history\n",
    "        self.fwdmodel = fwdmodel\n",
    "        self.dsynth = dsynth\n",
    "        self.sigdata = sigdata\n",
    "        # Set forward model to represent history\n",
    "        self.fwdmodel.gfunc = history.rockprops\n",
    "        # Turn full anti-aliasing on; match h to grid resolution\n",
    "        mesh = self.fwdmodel.mesh\n",
    "        self.h = np.exp(np.mean(np.log([mesh.hx, mesh.hy, mesh.hz])))\n",
    "        \n",
    "    def log_likelihood(self, theta):\n",
    "        # Load this parameter vector into the history and calculate gravity\n",
    "        self.history.deserialize(theta)\n",
    "        dpred = fwdmodel.calc_gravity(self.h)\n",
    "        resids = dpred - dsynth\n",
    "        resids = resids - resids.mean()\n",
    "        # Independent Gaussian likelihood with variance sigdata**2\n",
    "        return -0.5*np.sum(resids**2/self.sigdata**2 + np.log(2*np.pi*sigdata**2))\n",
    "\n",
    "    def log_prior(self, theta):\n",
    "        # Load this parameter vector into the history and calculate prior density\n",
    "        self.history.deserialize(theta)\n",
    "        return history.logprior()"
   ]
  },
  {
   "cell_type": "code",
   "execution_count": 5,
   "metadata": {
    "collapsed": true
   },
   "outputs": [],
   "source": [
    "# Make some synthetic data\n",
    "data0 = fwdmodel.calc_gravity(h)\n",
    "np.random.seed(413)\n",
    "sigrel = 0.05\n",
    "sigdata = sigrel*np.std(data0)\n",
    "epsilon = sigdata*np.random.normal(size=data0.shape)\n",
    "dsynth = data0 + epsilon\n",
    "\n",
    "# Generate a GeoModel\n",
    "model = GeoModel(history, fwdmodel, dsynth, sigdata)\n",
    "\n",
    "def run_grid(model, p1_vals, p2_vals, p1_idx, p2_idx):\n",
    "    origpars = model.history.serialize()\n",
    "    grid_vals = [ ]\n",
    "    for p1i in p1_vals:\n",
    "        for p2i in p2_vals:\n",
    "            theta = np.array(origpars)\n",
    "            theta[p1_idx], theta[p2_idx] = p1i, p2i\n",
    "            grid_vals.append([p1i, p2i, model.log_posterior(theta)])\n",
    "    model.history.deserialize(origpars)\n",
    "    grid_vals = np.array(grid_vals).T.reshape(3, len(p1_vals), len(p2_vals))\n",
    "    return grid_vals\n",
    "\n",
    "def show_contours(xg, yg, Lg, p1_vals, p2_vals, p1_0, p2_0):\n",
    "    levels = 10**np.arange(-6,0.1)\n",
    "    levels = np.log(10)*np.arange(-6,0.1)\n",
    "    # plt.contourf(xg, yg, np.exp(Lg - Lg.max()), levels=levels)\n",
    "    plt.contourf(xg, yg, Lg - Lg.max(), levels=levels)\n",
    "    plt.colorbar()\n",
    "    ax = plt.gca()\n",
    "    ax.set_xlim(p1_vals.min(), p1_vals.max())\n",
    "    ax.set_ylim(p2_vals.min(), p2_vals.max())"
   ]
  },
  {
   "cell_type": "code",
   "execution_count": 6,
   "metadata": {
    "collapsed": true
   },
   "outputs": [],
   "source": [
    "def vet_slice(model, z1_idx, z2_idx, zdelt1, zdelt2, Nz):\n",
    "    histpars = np.array(model.history.serialize())\n",
    "    z1_0, z2_0 = histpars[z1_idx], histpars[z2_idx]\n",
    "    z1_vals = np.linspace(z1_0-0.5*zdelt1, z1_0+0.5*zdelt1, Nz)\n",
    "    z2_vals = np.linspace(z2_0-0.5*zdelt2, z2_0+0.5*zdelt2, Nz)\n",
    "    xg, yg, Lg = profile_timer(run_grid, model, z1_vals, z2_vals, z1_idx, z2_idx)\n",
    "    show_contours(xg, yg, Lg, z1_vals, z2_vals, z1_0, z2_0)"
   ]
  },
  {
   "cell_type": "code",
   "execution_count": 7,
   "metadata": {},
   "outputs": [
    {
     "name": "stdout",
     "output_type": "stream",
     "text": [
      "run_grid ran in 2.368 sec\n",
      "run_grid ran in 2.257 sec\n",
      "run_grid ran in 2.260 sec\n"
     ]
    },
    {
     "data": {
      "text/plain": "<Figure size 1152x288 with 6 Axes>",
      "image/png": "[encoded data removed]"
     },
     "metadata": {
      "needs_background": "light"
     },
     "output_type": "display_data"
    }
   ],
   "source": [
    "Nz = 30\n",
    "fig = plt.figure(figsize=(16, 4))\n",
    "plt.subplot(131)\n",
    "vet_slice(model,  1,  3, 600.0, 200.0, Nz)   # widths of layers on top of basement\n",
    "plt.subplot(132)\n",
    "vet_slice(model,  9, 14, 200.0, 200.0, Nz)   # the two fault displacements\n",
    "plt.subplot(133)\n",
    "vet_slice(model,  7, 12,  25.0,  25.0, Nz)   # the two fault elevation angles\n",
    "plt.show()"
   ]
  },
  {
   "cell_type": "markdown",
   "metadata": {},
   "source": [
    "These look very reasonable!  But we can also turn anti-aliasing off, and show what happens:"
   ]
  },
  {
   "cell_type": "code",
   "execution_count": 8,
   "metadata": {},
   "outputs": [
    {
     "name": "stdout",
     "output_type": "stream",
     "text": [
      "run_grid ran in 2.183 sec\n",
      "run_grid ran in 1.975 sec\n",
      "run_grid ran in 2.091 sec\n"
     ]
    },
    {
     "data": {
      "text/plain": "<Figure size 1152x288 with 6 Axes>",
      "image/png": "[encoded data removed]"
     },
     "metadata": {
      "needs_background": "light"
     },
     "output_type": "display_data"
    }
   ],
   "source": [
    "Nz = 30\n",
    "model.h = 0.001*h\n",
    "fig = plt.figure(figsize=(16, 4))\n",
    "plt.subplot(131)\n",
    "vet_slice(model,  1,  3, 600.0, 200.0, Nz)   # widths of layers on top of basement\n",
    "plt.subplot(132)\n",
    "vet_slice(model,  9, 14, 200.0, 200.0, Nz)   # the two fault displacements\n",
    "plt.subplot(133)\n",
    "vet_slice(model,  7, 12,  25.0,  25.0, Nz)   # the two fault elevation angles\n",
    "model.h = h\n",
    "plt.show()"
   ]
  },
  {
   "cell_type": "markdown",
   "metadata": {},
   "source": [
    "## Sampling with Riemann\n",
    "\n",
    "Let's try to sample the posterior of this model now using our home-brewed sampling framework."
   ]
  },
  {
   "cell_type": "code",
   "execution_count": 9,
   "metadata": {},
   "outputs": [
    {
     "name": "stdout",
     "output_type": "stream",
     "text": [
      "run ran in 240.847 sec\n",
      "chain.mean = [   0.93143461  675.59164709    2.33838164  277.19353271    2.23264654\n",
      " -394.23081132   10.5784776    49.52550638  -48.40575525 -540.23098303\n",
      "  398.14590881  -10.43936034  -15.4355243   -20.76977763  617.62874869]\n",
      "chain.std  = [2.55941844e+00 8.75647032e+01 9.93354232e-02 5.69542399e+01\n",
      " 6.51729613e-02 1.08362667e+01 4.07445980e+00 7.02019276e+00\n",
      " 1.10680115e+01 1.46490075e+02 1.50687822e+01 6.83940468e+00\n",
      " 2.16996597e+01 1.12849045e+01 1.11359378e+02]\n",
      "acceptance fraction = 0.00349\n"
     ]
    }
   ],
   "source": [
    "from riemann import Sampler, Model\n",
    "from riemann.proposals.randomwalk import AdaptiveMetropolisRandomWalk as AMRW\n",
    "\n",
    "Npars = len(histpars)\n",
    "Nsamp = 100000\n",
    "stepsizes = np.array([0.1, 100, 0.01, 100, 0.01,\n",
    "                      1.0, 1.0, 1.0, 1.0, 100,\n",
    "                      1.0, 1.0, 1.0, 1.0, 100])\n",
    "model.history.set_to_prior_draw()\n",
    "proposal = AMRW(0.1*np.diag(stepsizes), 100, marginalize=False)\n",
    "sampler = Sampler(model, proposal, np.array(histpars))\n",
    "profile_timer(sampler.run, Nsamp)\n",
    "chain = np.array(sampler._chain_thetas)\n",
    "model.history.deserialize(sampler._chain_thetas[0])\n",
    "print(\"chain.mean =\", np.mean(chain, axis=0))\n",
    "print(\"chain.std  =\", np.std(chain, axis=0))\n",
    "print(\"acceptance fraction =\", np.mean(chain[1:]-chain[:-1] != 0))"
   ]
  },
  {
   "cell_type": "code",
   "execution_count": 28,
   "outputs": [],
   "source": [],
   "metadata": {
    "collapsed": false,
    "pycharm": {
     "name": "#%%\n"
    }
   }
  },
  {
   "cell_type": "code",
   "execution_count": 10,
   "metadata": {},
   "outputs": [
    {
     "name": "stdout",
     "output_type": "stream",
     "text": [
      "density           0.9 +/-        2.6\n",
      "thickness       675.6 +/-       87.6\n",
      "density           2.3 +/-        0.1\n",
      "thickness       277.2 +/-       57.0\n",
      "density           2.2 +/-        0.1\n",
      "x0             -394.2 +/-       10.8\n",
      "y0               10.6 +/-        4.1\n",
      "nth              49.5 +/-        7.0\n",
      "nph             -48.4 +/-       11.1\n",
      "s              -540.2 +/-      146.5\n",
      "x0              398.1 +/-       15.1\n",
      "y0              -10.4 +/-        6.8\n",
      "nth             -15.4 +/-       21.7\n",
      "nph             -20.8 +/-       11.3\n",
      "s               617.6 +/-      111.4\n"
     ]
    }
   ],
   "source": [
    "vnames = np.concatenate([event._pars for event in model.history.event_list])\n",
    "vmean = np.mean(chain, axis=0)\n",
    "vstd = np.std(chain, axis=0)\n",
    "\n",
    "for i in range(len(vnames)):\n",
    "    print(\"{:<10} {:10.1f} +/- {:10.1f}\".format(vnames[i], vmean[i], vstd[i]))"
   ]
  },
  {
   "cell_type": "code",
   "execution_count": 11,
   "metadata": {
    "collapsed": true
   },
   "outputs": [],
   "source": [
    "from scipy.stats import gaussian_kde\n",
    "\n",
    "def vet_slice_2(z1_idx, z2_idx, zdelt1, zdelt2, Nz):\n",
    "    z1_0, z2_0 = histpars[z1_idx], histpars[z2_idx]\n",
    "    z1g = np.linspace(z1_0-0.5*zdelt1, z1_0+0.5*zdelt1, Nz)\n",
    "    z2g = np.linspace(z2_0-0.5*zdelt2, z2_0+0.5*zdelt2, Nz)\n",
    "    x, y = chain[:,z1_idx], chain[:,z2_idx]\n",
    "    xy = np.vstack([x,y])\n",
    "    kde = gaussian_kde(xy)\n",
    "    # th = np.repeat(chain[0,:], len(chain)).reshape(len(chain), -1)\n",
    "    # kde = gaussian_kde(th)\n",
    "    xg, yg = np.meshgrid(z1g, z2g)\n",
    "    xyg = np.array([xg, yg]).reshape(2,-1)\n",
    "    zg = kde(xyg).reshape(xg.shape)\n",
    "    # thg = np.repeat(chain[0,:], len(xg)).reshape(len(xg), -1)\n",
    "    # zg = kde(thg).reshape(xg.shape)\n",
    "    levels = np.log(10)*np.arange(-6,0.1)\n",
    "    plt.contourf(xg, yg, np.log(zg + 1e-12) - np.log(zg.max()), levels=levels)\n",
    "    plt.colorbar()"
   ]
  },
  {
   "cell_type": "code",
   "execution_count": 12,
   "metadata": {},
   "outputs": [
    {
     "data": {
      "text/plain": "<Figure size 1152x288 with 6 Axes>",
      "image/png": "[encoded data removed]"
     },
     "metadata": {
      "needs_background": "light"
     },
     "output_type": "display_data"
    }
   ],
   "source": [
    "Nz = 30\n",
    "fig = plt.figure(figsize=(16, 4))\n",
    "plt.subplot(131)\n",
    "vet_slice_2( 1,  3, 1000.0, 400.0, Nz)   # widths of layers on top of basement\n",
    "plt.subplot(132)\n",
    "vet_slice_2( 9, 14, 500.0, 500.0, Nz)   # the two fault displacements\n",
    "plt.subplot(133)\n",
    "vet_slice_2( 7, 12,  50.0,  50.0, Nz)   # the two fault elevation angles\n",
    "plt.show()"
   ]
  },
  {
   "cell_type": "markdown",
   "metadata": {},
   "source": [
    "This is the _marginal_ posterior (a distribution of samples projected onto the planes shown), while the earlier contour plots were showing the _conditional_ posterior (slices through the posterior with all the other variables fixed).  So it makes sense that they might not look exactly the same.\n",
    "\n"
   ]
  },
  {
   "cell_type": "code",
   "execution_count": 13,
   "metadata": {},
   "outputs": [
    {
     "name": "stdout",
     "output_type": "stream",
     "text": [
      "chain.shape = (100001, 15)\n",
      "tau = [98.93443018 98.76035849 97.41266745 98.92785351 97.64578285 96.50131334\n",
      " 98.85644455 98.30875077 98.71190988 98.88895047 97.69967707 98.93308184\n",
      " 98.95283611 98.9106222  98.79639472]\n",
      "ess = [1010.78057269 1012.56214061 1026.57080048 1010.84776888 1024.12000888\n",
      " 1036.26568945 1011.5779548  1017.21361751 1013.05911439 1011.24543772\n",
      " 1023.55507199 1010.79434847 1010.59256033 1011.02386955 1012.19280608]\n"
     ]
    },
    {
     "name": "stderr",
     "output_type": "stream",
     "text": [
      "/Users/marklindsay/opt/anaconda3/envs/blockworlds/lib/python3.7/site-packages/emcee-2.1.0-py3.7.egg/emcee/autocorr.py:44: FutureWarning: Using a non-tuple sequence for multidimensional indexing is deprecated; use `arr[tuple(seq)]` instead of `arr[seq]`. In the future this will be interpreted as an array index, `arr[np.array(seq)]`, which will result either in an error or a different result.\n",
      "/Users/marklindsay/opt/anaconda3/envs/blockworlds/lib/python3.7/site-packages/emcee-2.1.0-py3.7.egg/emcee/autocorr.py:46: FutureWarning: Using a non-tuple sequence for multidimensional indexing is deprecated; use `arr[tuple(seq)]` instead of `arr[seq]`. In the future this will be interpreted as an array index, `arr[np.array(seq)]`, which will result either in an error or a different result.\n",
      "/Users/marklindsay/opt/anaconda3/envs/blockworlds/lib/python3.7/site-packages/emcee-2.1.0-py3.7.egg/emcee/autocorr.py:82: FutureWarning: Using a non-tuple sequence for multidimensional indexing is deprecated; use `arr[tuple(seq)]` instead of `arr[seq]`. In the future this will be interpreted as an array index, `arr[np.array(seq)]`, which will result either in an error or a different result.\n"
     ]
    }
   ],
   "source": [
    "import emcee\n",
    "tau = emcee.autocorr.integrated_time(chain)\n",
    "print(\"chain.shape =\", chain.shape)\n",
    "print(\"tau =\", tau)\n",
    "print(\"ess =\", len(chain)/tau)"
   ]
  },
  {
   "cell_type": "code",
   "execution_count": null,
   "metadata": {},
   "outputs": [],
   "source": [
    "if len(tau) > 1:\n",
    "    thin = int(np.mean(tau))\n",
    "\n",
    "# thin = len(tau)\n",
    "# thin = int(tau)\n",
    "r = fwdmodel.mesh.gridCC\n",
    "geoshape = fwdmodel.gfunc(r, h).shape\n",
    "geovox1 = np.zeros(geoshape)\n",
    "geovox2 = np.zeros(geoshape)\n",
    "Nthin = len(chain[::thin])\n",
    "\n",
    "for theta in chain[::thin]:\n",
    "    history.deserialize(theta)\n",
    "    g = fwdmodel.gfunc(r, h)\n",
    "    geovox1 += g\n",
    "    geovox2 += g*g\n",
    "gmu = geovox1/Nthin\n",
    "gvar = geovox2/Nthin - gmu*gmu\n",
    "\n",
    "plt.figure(figsize=(16,6))\n",
    "ax1 = plt.subplot(1,2,1)\n",
    "fwdmodel.voxmodel = gmu\n",
    "fwdmodel.plot_model_slice(ax=ax1)\n",
    "plt.title(\"Slice of block model posterior mean at y = 0 m\")\n",
    "ax2 = plt.subplot(1,2,2)\n",
    "fwdmodel.voxmodel = gvar\n",
    "fwdmodel.plot_model_slice(ax=ax2)\n",
    "plt.title(\"Slice of block model posterior variance at y = 0 m\")\n",
    "plt.show()"
   ]
  },
  {
   "cell_type": "code",
   "execution_count": null,
   "metadata": {
    "collapsed": true
   },
   "outputs": [],
   "source": []
  }
 ],
 "metadata": {
  "kernelspec": {
   "name": "python3",
   "language": "python",
   "display_name": "Python 3"
  },
  "language_info": {
   "codemirror_mode": {
    "name": "ipython",
    "version": 3
   },
   "file_extension": ".py",
   "mimetype": "text/x-python",
   "name": "python",
   "nbconvert_exporter": "python",
   "pygments_lexer": "ipython3",
   "version": "3.6.2"
  }
 },
 "nbformat": 4,
 "nbformat_minor": 2
}